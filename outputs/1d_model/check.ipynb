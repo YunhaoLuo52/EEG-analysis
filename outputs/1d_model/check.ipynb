{
 "cells": [
  {
   "cell_type": "code",
   "execution_count": 2,
   "id": "00079ad7",
   "metadata": {},
   "outputs": [],
   "source": [
    "import pandas as pd\n",
    "\n",
    "\n"
   ]
  },
  {
   "cell_type": "code",
   "execution_count": 11,
   "id": "08ba67e6",
   "metadata": {},
   "outputs": [
    {
     "name": "stdout",
     "output_type": "stream",
     "text": [
      "Rows: 4455\n",
      "Columns: 1280\n"
     ]
    }
   ],
   "source": [
    "df = pd.read_csv(\"C:/Github/EEG-Mouse/outputs/1d_model/350/csv_data/training_concatenated_data.csv\")\n",
    "print(\"Rows:\", df.shape[0])\n",
    "print(\"Columns:\", df.shape[1])"
   ]
  },
  {
   "cell_type": "code",
   "execution_count": 13,
   "id": "5a879ebe",
   "metadata": {},
   "outputs": [
    {
     "name": "stdout",
     "output_type": "stream",
     "text": [
      "Rows: 4455\n",
      "Columns: 1\n"
     ]
    }
   ],
   "source": [
    "df = pd.read_csv(\"C:/Github/EEG-Mouse/data/train_labels.csv\")\n",
    "print(\"Rows:\", df.shape[0])\n",
    "print(\"Columns:\", df.shape[1])"
   ]
  },
  {
   "cell_type": "code",
   "execution_count": 14,
   "id": "7a02b380",
   "metadata": {},
   "outputs": [
    {
     "name": "stdout",
     "output_type": "stream",
     "text": [
      "Rows: 4455\n",
      "Columns: 512\n"
     ]
    }
   ],
   "source": [
    "df = pd.read_csv(\"C:/Github/EEG-Mouse/outputs/1d_model/350/csv_data/training_predicted_part_only.csv\")\n",
    "print(\"Rows:\", df.shape[0])\n",
    "print(\"Columns:\", df.shape[1])"
   ]
  },
  {
   "cell_type": "code",
   "execution_count": 8,
   "id": "edaf9eba",
   "metadata": {},
   "outputs": [
    {
     "name": "stdout",
     "output_type": "stream",
     "text": [
      "Rows: 1113\n",
      "Columns: 1280\n"
     ]
    }
   ],
   "source": [
    "df = pd.read_csv(\"C:/Github/EEG-Mouse/outputs/1d_model/350/csv_data/testing_concatenated_data.csv\")\n",
    "print(\"Rows:\", df.shape[0])\n",
    "print(\"Columns:\", df.shape[1])"
   ]
  },
  {
   "cell_type": "code",
   "execution_count": 12,
   "id": "dfb352bb",
   "metadata": {},
   "outputs": [
    {
     "name": "stdout",
     "output_type": "stream",
     "text": [
      "❌ Rows before row 728 are different.\n",
      "✅ Rows after row 728 are the same.\n"
     ]
    }
   ],
   "source": [
    "# Load both CSV files\n",
    "df1 = pd.read_csv(\"C:/Github/EEG-Mouse/outputs/1d_model/350/csv_data/testing_concatenated_data.csv\")\n",
    "df2 = pd.read_csv(\"C:/Github/EEG-Mouse/data/test.csv\")\n",
    "df3 = pd.read_csv(\"C:/Github/EEG-Mouse/outputs/1d_model/350/csv_data/testing_predicted_data.csv\")\n",
    "\n",
    "# Ensure both files have the same shape first\n",
    "if df1.shape != df2.shape:\n",
    "    print(\"Files have different shapes.\")\n",
    "else:\n",
    "    # Compare rows before row 728 (index 0 to 727)\n",
    "    before_match = df1.iloc[:728].equals(df2.iloc[:728])\n",
    "\n",
    "    # Compare rows after row 728 (index 729 onward)\n",
    "    after_match = df1.iloc[729:].equals(df3.iloc[729:])\n",
    "\n",
    "    if before_match:\n",
    "        print(\"✅ Rows before row 728 are the same.\")\n",
    "    else:\n",
    "        print(\"❌ Rows before row 728 are different.\")\n",
    "\n",
    "    if after_match:\n",
    "        print(\"✅ Rows after row 728 are the same.\")\n",
    "    else:\n",
    "        print(\"❌ Rows after row 728 are different.\")"
   ]
  },
  {
   "cell_type": "code",
   "execution_count": 16,
   "id": "125fa85b",
   "metadata": {},
   "outputs": [
    {
     "name": "stdout",
     "output_type": "stream",
     "text": [
      "❌ Rows before row 728 are different.\n",
      "✅ Rows after row 728 are the same.\n"
     ]
    }
   ],
   "source": [
    "# Load both CSV files\n",
    "df1 = pd.read_csv(\"C:/Github/EEG-Mouse/outputs/1d_model/175/csv_data/testing_concatenated_data.csv\")\n",
    "df2 = pd.read_csv(\"C:/Github/EEG-Mouse/data/test.csv\")\n",
    "df3 = pd.read_csv(\"C:/Github/EEG-Mouse/outputs/1d_model/175/csv_data/testing_predicted_data.csv\")\n",
    "\n",
    "# Ensure both files have the same shape first\n",
    "if df1.shape != df2.shape:\n",
    "    print(\"Files have different shapes.\")\n",
    "else:\n",
    "    # Compare rows before row 728 (index 0 to 727)\n",
    "    before_match = df1.iloc[:527].equals(df2.iloc[:527])\n",
    "\n",
    "    # Compare rows after row 728 (index 729 onward)\n",
    "    after_match = df1.iloc[729:].equals(df3.iloc[729:])\n",
    "\n",
    "    if before_match:\n",
    "        print(\"✅ Rows before row 728 are the same.\")\n",
    "    else:\n",
    "        print(\"❌ Rows before row 728 are different.\")\n",
    "\n",
    "    if after_match:\n",
    "        print(\"✅ Rows after row 728 are the same.\")\n",
    "    else:\n",
    "        print(\"❌ Rows after row 728 are different.\")"
   ]
  },
  {
   "cell_type": "code",
   "execution_count": null,
   "id": "6b6523a0",
   "metadata": {},
   "outputs": [],
   "source": []
  },
  {
   "cell_type": "code",
   "execution_count": null,
   "id": "1008edd9",
   "metadata": {},
   "outputs": [],
   "source": []
  }
 ],
 "metadata": {
  "kernelspec": {
   "display_name": "EEGDiff",
   "language": "python",
   "name": "python3"
  },
  "language_info": {
   "codemirror_mode": {
    "name": "ipython",
    "version": 3
   },
   "file_extension": ".py",
   "mimetype": "text/x-python",
   "name": "python",
   "nbconvert_exporter": "python",
   "pygments_lexer": "ipython3",
   "version": "3.9.21"
  }
 },
 "nbformat": 4,
 "nbformat_minor": 5
}
